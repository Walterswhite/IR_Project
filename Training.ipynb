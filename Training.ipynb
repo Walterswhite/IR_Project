{
  "nbformat": 4,
  "nbformat_minor": 0,
  "metadata": {
    "colab": {
      "name": "Training.ipynb",
      "provenance": [],
      "toc_visible": true
    },
    "kernelspec": {
      "name": "python3",
      "display_name": "Python 3"
    },
    "language_info": {
      "name": "python"
    },
    "accelerator": "GPU"
  },
  "cells": [
    {
      "cell_type": "code",
      "source": [
        "!unzip \"/content/drive/MyDrive/IR/archive.zip\""
      ],
      "metadata": {
        "id": "kvUrOiPAcQ4R",
        "colab": {
          "base_uri": "https://localhost:8080/"
        },
        "outputId": "3938826a-e23a-4381-bbb7-39276764bbab"
      },
      "execution_count": null,
      "outputs": [
        {
          "output_type": "stream",
          "name": "stdout",
          "text": [
            "unzip:  cannot find or open /content/drive/MyDrive/IR/archive.zip, /content/drive/MyDrive/IR/archive.zip.zip or /content/drive/MyDrive/IR/archive.zip.ZIP.\n"
          ]
        }
      ]
    },
    {
      "cell_type": "code",
      "source": [
        "# for loading/processing the images\n",
        "from keras.preprocessing.image import load_img \n",
        "from keras.preprocessing.image import img_to_array \n",
        "from keras.applications.vgg16 import preprocess_input \n",
        "\n",
        "# models \n",
        "from keras.applications.vgg19 import VGG19\n",
        "from keras.models import Model\n",
        "\n",
        "# clustering and dimension reduction\n",
        "from sklearn.cluster import KMeans\n",
        "from sklearn.decomposition import PCA\n",
        "\n",
        "# for everything else\n",
        "import os\n",
        "import numpy as np\n",
        "import matplotlib.pyplot as plt\n",
        "from random import randint\n",
        "import pandas as pd\n",
        "import pickle"
      ],
      "metadata": {
        "id": "RrUTh5s8cTh0"
      },
      "execution_count": null,
      "outputs": []
    },
    {
      "cell_type": "code",
      "source": [
        "path = r\"/content/Images\"\n",
        "# change the working directory to the path where the images are located\n",
        "os.chdir(path)\n",
        "\n",
        "# this list holds all the image filename\n",
        "images = []\n",
        "\n",
        "# creates a ScandirIterator aliased as files\n",
        "with os.scandir(path) as files:\n",
        "  # loops through each file in the directory\n",
        "    for file in files:\n",
        "        if file.name.endswith('.jpg'):\n",
        "          # adds only the image files to the flowers list\n",
        "            images.append(file.name)"
      ],
      "metadata": {
        "id": "B1mJv-IecZtH"
      },
      "execution_count": null,
      "outputs": []
    },
    {
      "cell_type": "code",
      "source": [
        "print(images[:10])"
      ],
      "metadata": {
        "colab": {
          "base_uri": "https://localhost:8080/"
        },
        "id": "7zBCwNPbchDF",
        "outputId": "d8d0ccb2-e18f-4e87-aaa6-97de769ed854"
      },
      "execution_count": null,
      "outputs": [
        {
          "output_type": "stream",
          "name": "stdout",
          "text": [
            "['2084157130_f288e492e4.jpg', '3616808182_fb4eaec778.jpg', '2067833088_04e84e5bf2.jpg', '2888408966_376c195b3f.jpg', '2902844125_4186bf3ab6.jpg', '2638369467_8fc251595b.jpg', '1130369873_d80a1aa59c.jpg', '3217893350_57be430d06.jpg', '3019857541_3de3e24f54.jpg', '3490528249_6aae9b867b.jpg']\n"
          ]
        }
      ]
    },
    {
      "cell_type": "code",
      "source": [
        "model = VGG19()\n",
        "model = Model(inputs = model.inputs, outputs = model.layers[-2].output)\n",
        "\n",
        "def extract_features(file, model):\n",
        "    # load the image as a 224x224 array\n",
        "    img = load_img(file, target_size=(224,224))\n",
        "    # convert from 'PIL.Image.Image' to numpy array\n",
        "    img = np.array(img) \n",
        "    # reshape the data for the model reshape(num_of_samples, dim 1, dim 2, channels)\n",
        "    reshaped_img = img.reshape(1,224,224,3) \n",
        "    # prepare image for model\n",
        "    imgx = preprocess_input(reshaped_img)\n",
        "    # get the feature vector\n",
        "    features = model.predict(imgx, use_multiprocessing=True)\n",
        "    return features"
      ],
      "metadata": {
        "colab": {
          "base_uri": "https://localhost:8080/"
        },
        "id": "qCyG-D8Ncjt0",
        "outputId": "e8c407c2-d4fa-4a00-ba23-f141f135ca0e"
      },
      "execution_count": null,
      "outputs": [
        {
          "output_type": "stream",
          "name": "stdout",
          "text": [
            "Downloading data from https://storage.googleapis.com/tensorflow/keras-applications/vgg19/vgg19_weights_tf_dim_ordering_tf_kernels.h5\n",
            "574717952/574710816 [==============================] - 7s 0us/step\n",
            "574726144/574710816 [==============================] - 7s 0us/step\n"
          ]
        }
      ]
    },
    {
      "cell_type": "code",
      "source": [
        "features = {}\n",
        "# lop through each image in the dataset\n",
        "i = 0\n",
        "for image in images:\n",
        "    feat = extract_features(image,model)\n",
        "    features[image] = feat\n",
        "    if i%50==0:\n",
        "      print(i)\n",
        "    i=i+1"
      ],
      "metadata": {
        "id": "iSLg1vi1dKwR"
      },
      "execution_count": null,
      "outputs": []
    },
    {
      "cell_type": "code",
      "source": [
        "afile = open(r'/content/features.pkl', 'wb')\n",
        "pickle.dump(features, afile)"
      ],
      "metadata": {
        "id": "g3dRuDxYdyrL"
      },
      "execution_count": null,
      "outputs": []
    },
    {
      "cell_type": "code",
      "source": [
        "with open(r\"/content/drive/MyDrive/IR/features.pkl\", \"rb\") as input_file:\n",
        "    loaded_features = pickle.load(input_file)"
      ],
      "metadata": {
        "id": "BJv0SLlid7iV"
      },
      "execution_count": null,
      "outputs": []
    },
    {
      "cell_type": "code",
      "source": [
        "filenames = np.array(list(loaded_features.keys()))"
      ],
      "metadata": {
        "id": "xDIVu8u52JXX"
      },
      "execution_count": null,
      "outputs": []
    },
    {
      "cell_type": "code",
      "source": [
        "feat = np.array(list(loaded_features.values()))\n",
        "feat.shape"
      ],
      "metadata": {
        "colab": {
          "base_uri": "https://localhost:8080/"
        },
        "id": "bsSgBRyG2PQ-",
        "outputId": "1f7f3da1-c3c9-4169-bfea-dcc5713e9599"
      },
      "execution_count": null,
      "outputs": [
        {
          "output_type": "execute_result",
          "data": {
            "text/plain": [
              "(8091, 1, 4096)"
            ]
          },
          "metadata": {},
          "execution_count": 7
        }
      ]
    },
    {
      "cell_type": "code",
      "source": [
        "feat = feat.reshape(-1,4096)\n",
        "feat.shape"
      ],
      "metadata": {
        "colab": {
          "base_uri": "https://localhost:8080/"
        },
        "id": "jGcMuY4o2T14",
        "outputId": "e3a06275-4daa-4758-db9c-14431dfb952a"
      },
      "execution_count": null,
      "outputs": [
        {
          "output_type": "execute_result",
          "data": {
            "text/plain": [
              "(8091, 4096)"
            ]
          },
          "metadata": {},
          "execution_count": 8
        }
      ]
    },
    {
      "cell_type": "code",
      "source": [
        "pca = PCA(n_components=100, random_state=22)\n",
        "pca.fit(feat)\n",
        "x = pca.transform(feat)\n"
      ],
      "metadata": {
        "id": "vlGYUWxw0BaR"
      },
      "execution_count": null,
      "outputs": []
    },
    {
      "cell_type": "code",
      "source": [
        "with open(\"/content/drive/MyDrive/IR/pca.pkl\", \"wb\") as f:\n",
        "    pickle.dump(pca, f)"
      ],
      "metadata": {
        "id": "GIu2teY-33_t"
      },
      "execution_count": null,
      "outputs": []
    },
    {
      "cell_type": "markdown",
      "source": [
        "Clustering"
      ],
      "metadata": {
        "id": "mHXPyGk02gyG"
      }
    },
    {
      "cell_type": "code",
      "source": [
        "kmeans = KMeans(n_clusters=50,random_state=2)\n",
        "kmeans.fit(x)"
      ],
      "metadata": {
        "colab": {
          "base_uri": "https://localhost:8080/"
        },
        "id": "WAfvrq8s2cCW",
        "outputId": "128b0fed-1ebf-4862-a48b-a43746265a0d"
      },
      "execution_count": null,
      "outputs": [
        {
          "output_type": "execute_result",
          "data": {
            "text/plain": [
              "KMeans(n_clusters=50, random_state=2)"
            ]
          },
          "metadata": {},
          "execution_count": 11
        }
      ]
    },
    {
      "cell_type": "code",
      "source": [
        "with open(\"/content/drive/MyDrive/IR/kmeans.pkl\", \"wb\") as f:\n",
        "    pickle.dump(kmeans, f)"
      ],
      "metadata": {
        "id": "Bp4-PcDcz9Wt"
      },
      "execution_count": null,
      "outputs": []
    },
    {
      "cell_type": "code",
      "source": [
        "kmeans.labels_[:30]"
      ],
      "metadata": {
        "colab": {
          "base_uri": "https://localhost:8080/"
        },
        "id": "k2JRgb9I2orW",
        "outputId": "0f9a71b6-88cc-45c2-d594-df83900aa126"
      },
      "execution_count": null,
      "outputs": [
        {
          "output_type": "execute_result",
          "data": {
            "text/plain": [
              "array([ 2, 11, 11, 14, 39,  7, 48, 33, 17, 43, 39,  4,  6, 13, 19, 34, 21,\n",
              "       33, 41, 26,  4, 27,  4, 14, 48, 24, 42, 45,  4, 19], dtype=int32)"
            ]
          },
          "metadata": {},
          "execution_count": 14
        }
      ]
    },
    {
      "cell_type": "code",
      "source": [
        "with open(\"kmeans.pkl\", \"rb\") as f:\n",
        "    kmeans_model = pickle.load(f)\n"
      ],
      "metadata": {
        "id": "GzC3d2OJ1Ek8"
      },
      "execution_count": null,
      "outputs": []
    },
    {
      "cell_type": "code",
      "source": [
        "from collections import Counter\n",
        "c = Counter( kmeans.labels_ )\n",
        "\n",
        "print( c.items() )\n"
      ],
      "metadata": {
        "colab": {
          "base_uri": "https://localhost:8080/"
        },
        "id": "8sBOal9j26oH",
        "outputId": "5dc3498c-9e08-403b-e242-cfd0a1354bf2"
      },
      "execution_count": null,
      "outputs": [
        {
          "output_type": "stream",
          "name": "stdout",
          "text": [
            "dict_items([(2, 159), (11, 195), (14, 240), (39, 239), (7, 199), (48, 157), (33, 242), (17, 109), (43, 128), (4, 320), (6, 118), (13, 32), (19, 226), (34, 188), (21, 238), (41, 160), (26, 141), (27, 134), (24, 229), (42, 119), (45, 162), (40, 315), (25, 198), (37, 85), (15, 193), (23, 193), (9, 114), (30, 268), (3, 158), (36, 206), (18, 150), (47, 97), (5, 130), (8, 240), (22, 71), (20, 160), (28, 140), (10, 119), (38, 153), (32, 141), (49, 172), (35, 171), (31, 98), (12, 104), (1, 239), (0, 73), (46, 105), (29, 92), (16, 121), (44, 50)])\n"
          ]
        }
      ]
    },
    {
      "cell_type": "code",
      "source": [
        "groups = {}\n",
        "for file, cluster in zip(filenames,kmeans.labels_):\n",
        "    if cluster not in groups.keys():\n",
        "        groups[cluster] = []\n",
        "        groups[cluster].append(file)\n",
        "    else:\n",
        "        groups[cluster].append(file)"
      ],
      "metadata": {
        "id": "j5KqTWEe3G4E"
      },
      "execution_count": null,
      "outputs": []
    },
    {
      "cell_type": "code",
      "source": [
        "groups[2]"
      ],
      "metadata": {
        "id": "3mVRJlod3seP"
      },
      "execution_count": null,
      "outputs": []
    },
    {
      "cell_type": "code",
      "source": [
        "afile = open(r'/content/cluster.pkl', 'wb')\n",
        "pickle.dump(groups, afile)\n",
        "afile.close()"
      ],
      "metadata": {
        "id": "sS9qD9ot4Wwr"
      },
      "execution_count": null,
      "outputs": []
    }
  ]
}